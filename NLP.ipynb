{
 "cells": [
  {
   "cell_type": "code",
   "execution_count": 136,
   "source": [
    "import numpy as np"
   ],
   "outputs": [],
   "metadata": {}
  },
  {
   "cell_type": "code",
   "execution_count": 137,
   "source": [
    "import pandas as pd\n",
    "\n",
    "s140_train = pd.read_csv(\"/Users/gregorycrooks/Desktop/NLP Coursework/Datasets/Sentiment140/s140_train.csv\", encoding='latin-1', header = 0,\n",
    "names = [\"Sentiment\", \"PhraseID\", \"Date\", \"Hashtag\", \"Username\", \"Phrase\"])\n",
    "s140_test = pd.read_csv(\"/Users/gregorycrooks/Desktop/NLP Coursework/Datasets/Sentiment140/s140_test.csv\", encoding='latin-1', header = 0,\n",
    "names = [\"Sentiment\", \"PhraseID\", \"Date\", \"Hashtag\", \"Username\", \"Phrase\"]) \n",
    "rtmr_test = pd.read_csv(\"/Users/gregorycrooks/Desktop/NLP Coursework/Datasets/RottenTomatoesMovieReviews/rtmr_test.tsv\", encoding='latin-1', sep='\\t', header=0)\n",
    "rtmr_train = pd.read_csv(\"/Users/gregorycrooks/Desktop/NLP Coursework/Datasets/RottenTomatoesMovieReviews/rtmr_train.tsv\", encoding='latin-1', sep='\\t', header=0)\n",
    "\n",
    "\n",
    "amount = 5000\n",
    "\n",
    "s140_train = s140_train.loc[::200]\n",
    "rtmr_train = rtmr_train.loc[::30]\n",
    "print(len(s140_train))\n",
    "print(len(s140_test))\n",
    "print(len(rtmr_test))\n",
    "print(len(rtmr_train))\n",
    "s140_train.head()\n"
   ],
   "outputs": [
    {
     "output_type": "stream",
     "name": "stdout",
     "text": [
      "8000\n",
      "497\n",
      "7803\n",
      "4942\n"
     ]
    },
    {
     "output_type": "execute_result",
     "data": {
      "text/html": [
       "<div>\n",
       "<style scoped>\n",
       "    .dataframe tbody tr th:only-of-type {\n",
       "        vertical-align: middle;\n",
       "    }\n",
       "\n",
       "    .dataframe tbody tr th {\n",
       "        vertical-align: top;\n",
       "    }\n",
       "\n",
       "    .dataframe thead th {\n",
       "        text-align: right;\n",
       "    }\n",
       "</style>\n",
       "<table border=\"1\" class=\"dataframe\">\n",
       "  <thead>\n",
       "    <tr style=\"text-align: right;\">\n",
       "      <th></th>\n",
       "      <th>Sentiment</th>\n",
       "      <th>PhraseID</th>\n",
       "      <th>Date</th>\n",
       "      <th>Hashtag</th>\n",
       "      <th>Username</th>\n",
       "      <th>Phrase</th>\n",
       "    </tr>\n",
       "  </thead>\n",
       "  <tbody>\n",
       "    <tr>\n",
       "      <th>0</th>\n",
       "      <td>0</td>\n",
       "      <td>1467810672</td>\n",
       "      <td>Mon Apr 06 22:19:49 PDT 2009</td>\n",
       "      <td>NO_QUERY</td>\n",
       "      <td>scotthamilton</td>\n",
       "      <td>is upset that he can't update his Facebook by ...</td>\n",
       "    </tr>\n",
       "    <tr>\n",
       "      <th>200</th>\n",
       "      <td>0</td>\n",
       "      <td>1467861571</td>\n",
       "      <td>Mon Apr 06 22:33:01 PDT 2009</td>\n",
       "      <td>NO_QUERY</td>\n",
       "      <td>jessejoseph</td>\n",
       "      <td>@stustone Your show is whack. Way worse than w...</td>\n",
       "    </tr>\n",
       "    <tr>\n",
       "      <th>400</th>\n",
       "      <td>0</td>\n",
       "      <td>1467913608</td>\n",
       "      <td>Mon Apr 06 22:47:05 PDT 2009</td>\n",
       "      <td>NO_QUERY</td>\n",
       "      <td>qsexy</td>\n",
       "      <td>Home from Franklin street, I almost jumped ove...</td>\n",
       "    </tr>\n",
       "    <tr>\n",
       "      <th>600</th>\n",
       "      <td>0</td>\n",
       "      <td>1467963880</td>\n",
       "      <td>Mon Apr 06 23:01:21 PDT 2009</td>\n",
       "      <td>NO_QUERY</td>\n",
       "      <td>JesseW84</td>\n",
       "      <td>@birutagme yeah  it was really depressing... s...</td>\n",
       "    </tr>\n",
       "    <tr>\n",
       "      <th>800</th>\n",
       "      <td>0</td>\n",
       "      <td>1468010183</td>\n",
       "      <td>Mon Apr 06 23:14:42 PDT 2009</td>\n",
       "      <td>NO_QUERY</td>\n",
       "      <td>marythedork</td>\n",
       "      <td>@sarahsaturday I'm sorry your gift card ran ou...</td>\n",
       "    </tr>\n",
       "  </tbody>\n",
       "</table>\n",
       "</div>"
      ],
      "text/plain": [
       "     Sentiment    PhraseID                          Date   Hashtag  \\\n",
       "0            0  1467810672  Mon Apr 06 22:19:49 PDT 2009  NO_QUERY   \n",
       "200          0  1467861571  Mon Apr 06 22:33:01 PDT 2009  NO_QUERY   \n",
       "400          0  1467913608  Mon Apr 06 22:47:05 PDT 2009  NO_QUERY   \n",
       "600          0  1467963880  Mon Apr 06 23:01:21 PDT 2009  NO_QUERY   \n",
       "800          0  1468010183  Mon Apr 06 23:14:42 PDT 2009  NO_QUERY   \n",
       "\n",
       "          Username                                             Phrase  \n",
       "0    scotthamilton  is upset that he can't update his Facebook by ...  \n",
       "200    jessejoseph  @stustone Your show is whack. Way worse than w...  \n",
       "400          qsexy  Home from Franklin street, I almost jumped ove...  \n",
       "600       JesseW84  @birutagme yeah  it was really depressing... s...  \n",
       "800    marythedork  @sarahsaturday I'm sorry your gift card ran ou...  "
      ]
     },
     "metadata": {},
     "execution_count": 137
    }
   ],
   "metadata": {}
  },
  {
   "cell_type": "code",
   "execution_count": 138,
   "source": [
    "\n",
    "print((s140_train['Sentiment']==4).mean())\n",
    "print(\"\\nrtmr\")\n",
    "for i in range(5):\n",
    "    print(\"data: \",i, \" \", (rtmr_train['Sentiment']==i).mean())\n",
    "\n"
   ],
   "outputs": [
    {
     "output_type": "stream",
     "name": "stdout",
     "text": [
      "0.5\n",
      "\n",
      "rtmr\n",
      "data:  0   0.043099959530554434\n",
      "data:  1   0.17927964386887899\n",
      "data:  2   0.5056657223796034\n",
      "data:  3   0.21246458923512748\n",
      "data:  4   0.059490084985835696\n"
     ]
    }
   ],
   "metadata": {}
  },
  {
   "cell_type": "code",
   "execution_count": 139,
   "source": [
    "from nltk.corpus import stopwords \n",
    "import re\n",
    "from nltk import word_tokenize\n",
    "from string import punctuation\n",
    "from nltk.stem import PorterStemmer\n",
    "\n",
    "\n",
    "punctuation_list = list(punctuation)\n",
    "punctuation_list.append(\"@\")\n",
    "punctuation_list.append(\"http\")\n",
    "stop_words = set(stopwords.words(\"english\"))\n",
    "ignore_words = stop_words\n",
    "#Remove stopwords, remove punctuation, special characters,Hyperlinks, remove hyphens, remove dots fro abbreviations,\n",
    "# Select only those with letters from a to z, join words with Empty spaces between them)\n",
    "\n",
    "def get_labels(dataset):\n",
    "    dataset.head(3)\n",
    "    text_to_list = dataset[\"Phrase\"].tolist()\n",
    "    sentiment_to_list = dataset[\"Sentiment\"].tolist()\n",
    "    text_tokenised = []\n",
    "    sentiments_final = []\n",
    "    for i in range(len(text_to_list)):\n",
    "        try:\n",
    "            tokens = word_tokenize(text_to_list[i].lower())\n",
    "            if(len(tokens)>1):\n",
    "                text_tokenised.append(tokens) #  Add text tokens to list\n",
    "                sentiments_final.append(sentiment_to_list[i]) # Add label for valid email to labels list\n",
    "        except:\n",
    "            pass\n",
    "    labels_final = []\n",
    "    for i in sentiments_final:\n",
    "        if i == 1:\n",
    "            i = 0\n",
    "        elif i == 3:\n",
    "            i = 4\n",
    "        else:\n",
    "            i = i\n",
    "        labels_final.append(i)\n",
    "    return labels_final\n",
    "\n",
    "\n",
    "def pre_processing(dataset, ignore_words = []):\n",
    "    text_to_list = dataset[\"Phrase\"].tolist()\n",
    "    text_tokenised = []\n",
    "    sentiments_final = []\n",
    "    for i in range(len(text_to_list)):\n",
    "        try:\n",
    "            tokens = word_tokenize(text_to_list[i].lower())\n",
    "            if(len(tokens)>1):\n",
    "                text_tokenised.append(tokens) #  Add text tokens to list\n",
    "                sentiments_final.append(text_to_list[i]) \n",
    "        except:\n",
    "            pass\n",
    "    \n",
    "    text_preprocessed = text_tokenised\n",
    "    porter = PorterStemmer()\n",
    "    for i in range(len(text_preprocessed)):\n",
    "        new_tokens = []\n",
    "        for word in text_preprocessed[i]:\n",
    "                word = word.replace(\"-\",\"\") # Remove hyphens from words, e.g. lower-case->lowercase\n",
    "                word = word.replace(\".\",\"\")\n",
    "                regex_check = re.match(\"[a-z]+\", word)\n",
    "                if(regex_check!=None):\n",
    "                    if(regex_check.group()==word): \n",
    "                        if word not in punctuation_list:\n",
    "                            if word not in ignore_words:\n",
    "                                porter.stem(word)\n",
    "                                new_tokens.append(word)\n",
    "        text_preprocessed[i] = new_tokens\n",
    "    for i in range(len(text_preprocessed)):\n",
    "        if(len(text_preprocessed[i])==0):\n",
    "            print(\"text\",i,\"is empty!\")\n",
    "    dataset = []\n",
    "    for i in range(len(text_preprocessed)):\n",
    "        text = \" \".join(text_preprocessed[i])\n",
    "        dataset.append(text)\n",
    "    return dataset\n",
    "\n",
    "processed_rtmr_test = pre_processing(rtmr_test, ignore_words = stop_words)\n",
    "processed_rtmr_train = pre_processing(rtmr_train, ignore_words = stop_words)\n",
    "processed_s140_train = pre_processing(s140_train, ignore_words = stop_words)\n",
    "processed_s140_test = pre_processing(s140_test, ignore_words = stop_words)\n",
    "\n",
    "labels_rtmr_test = get_labels(rtmr_test)\n",
    "labels_rtmr_train = get_labels(rtmr_train)\n",
    "labels_s140_train = get_labels(s140_train)\n",
    "labels_s140_test = get_labels(s140_test)"
   ],
   "outputs": [
    {
     "output_type": "stream",
     "name": "stdout",
     "text": [
      "text 24 is empty!\n",
      "text 67 is empty!\n",
      "text 178 is empty!\n",
      "text 193 is empty!\n",
      "text 281 is empty!\n",
      "text 286 is empty!\n",
      "text 294 is empty!\n",
      "text 313 is empty!\n",
      "text 339 is empty!\n",
      "text 460 is empty!\n",
      "text 534 is empty!\n",
      "text 608 is empty!\n",
      "text 777 is empty!\n",
      "text 937 is empty!\n",
      "text 996 is empty!\n",
      "text 1086 is empty!\n",
      "text 1105 is empty!\n",
      "text 1116 is empty!\n",
      "text 1244 is empty!\n",
      "text 1248 is empty!\n",
      "text 1266 is empty!\n",
      "text 1437 is empty!\n",
      "text 1459 is empty!\n",
      "text 1526 is empty!\n",
      "text 1586 is empty!\n",
      "text 1626 is empty!\n",
      "text 1805 is empty!\n",
      "text 1860 is empty!\n",
      "text 1873 is empty!\n",
      "text 2033 is empty!\n",
      "text 2053 is empty!\n",
      "text 2201 is empty!\n",
      "text 2221 is empty!\n",
      "text 2257 is empty!\n",
      "text 2395 is empty!\n",
      "text 2420 is empty!\n",
      "text 2469 is empty!\n",
      "text 2487 is empty!\n",
      "text 2669 is empty!\n",
      "text 2682 is empty!\n",
      "text 2702 is empty!\n",
      "text 2840 is empty!\n",
      "text 2841 is empty!\n",
      "text 2872 is empty!\n",
      "text 2967 is empty!\n",
      "text 3152 is empty!\n",
      "text 3158 is empty!\n",
      "text 3233 is empty!\n",
      "text 3319 is empty!\n",
      "text 3490 is empty!\n",
      "text 3516 is empty!\n",
      "text 3586 is empty!\n",
      "text 3634 is empty!\n",
      "text 3667 is empty!\n",
      "text 3737 is empty!\n",
      "text 3754 is empty!\n",
      "text 3879 is empty!\n",
      "text 3893 is empty!\n",
      "text 4011 is empty!\n",
      "text 4141 is empty!\n",
      "text 4298 is empty!\n",
      "text 4342 is empty!\n",
      "text 4536 is empty!\n",
      "text 4879 is empty!\n",
      "text 5107 is empty!\n",
      "text 5232 is empty!\n",
      "text 5292 is empty!\n",
      "text 5923 is empty!\n",
      "text 5958 is empty!\n",
      "text 6012 is empty!\n",
      "text 6150 is empty!\n",
      "text 6157 is empty!\n",
      "text 6429 is empty!\n",
      "text 6524 is empty!\n",
      "text 6573 is empty!\n",
      "text 6592 is empty!\n",
      "text 6873 is empty!\n",
      "text 98 is empty!\n",
      "text 206 is empty!\n",
      "text 308 is empty!\n",
      "text 510 is empty!\n",
      "text 551 is empty!\n",
      "text 722 is empty!\n",
      "text 871 is empty!\n",
      "text 901 is empty!\n",
      "text 927 is empty!\n",
      "text 1064 is empty!\n",
      "text 1180 is empty!\n",
      "text 1195 is empty!\n",
      "text 1206 is empty!\n",
      "text 1272 is empty!\n",
      "text 1409 is empty!\n",
      "text 1559 is empty!\n",
      "text 1721 is empty!\n",
      "text 1850 is empty!\n",
      "text 1934 is empty!\n",
      "text 1957 is empty!\n",
      "text 2135 is empty!\n",
      "text 2205 is empty!\n",
      "text 2276 is empty!\n",
      "text 2344 is empty!\n",
      "text 2548 is empty!\n",
      "text 2644 is empty!\n",
      "text 2865 is empty!\n",
      "text 2873 is empty!\n",
      "text 2879 is empty!\n",
      "text 3036 is empty!\n",
      "text 3121 is empty!\n",
      "text 3316 is empty!\n",
      "text 3343 is empty!\n",
      "text 3393 is empty!\n",
      "text 3463 is empty!\n",
      "text 3512 is empty!\n",
      "text 3677 is empty!\n",
      "text 3773 is empty!\n",
      "text 3953 is empty!\n",
      "text 3962 is empty!\n",
      "text 3966 is empty!\n",
      "text 3992 is empty!\n",
      "text 4089 is empty!\n",
      "text 288 is empty!\n",
      "text 2244 is empty!\n",
      "text 2377 is empty!\n",
      "text 4298 is empty!\n",
      "text 4359 is empty!\n",
      "text 4952 is empty!\n",
      "text 5708 is empty!\n",
      "text 6494 is empty!\n",
      "text 6904 is empty!\n",
      "text 7047 is empty!\n",
      "text 7233 is empty!\n",
      "text 7889 is empty!\n"
     ]
    }
   ],
   "metadata": {}
  },
  {
   "cell_type": "markdown",
   "source": [
    "Count words"
   ],
   "metadata": {}
  },
  {
   "cell_type": "code",
   "execution_count": 141,
   "source": [
    "from sklearn.feature_extraction.text import CountVectorizer, TfidfVectorizer"
   ],
   "outputs": [],
   "metadata": {}
  },
  {
   "cell_type": "code",
   "execution_count": 142,
   "source": [
    "\n",
    "\n",
    "mapping = {0:0, 2:1, 4:2}\n",
    "def map_array(array):\n",
    "    return np.array([mapping[item] for item in array])\n",
    "\n",
    "\n",
    "processed_s140_train = np.array(processed_s140_train)\n",
    "labels_s140_train = np.array(labels_s140_train)\n",
    "args = np.random.permutation(len(processed_s140_train))\n",
    "\n",
    "cv = CountVectorizer(max_features = 1000)\n",
    "\n",
    "X_train_s140_s140 = cv.fit_transform(processed_s140_train).toarray()[args]\n",
    "X_test_s140_s140 = cv.transform(processed_s140_test).toarray()\n",
    "X_test_s140_rtmr = cv.transform(processed_rtmr_test).toarray()\n",
    "\n",
    "y_train_s140 = map_array(labels_s140_train[args])\n",
    "y_test_s140  = map_array(labels_s140_test)\n",
    "\n",
    "processed_rtmr_train = np.array(processed_rtmr_train)\n",
    "labels_rtmr_train = np.array(labels_rtmr_train)\n",
    "args = np.random.permutation(len(processed_rtmr_train))\n",
    "\n",
    "cv = CountVectorizer(max_features = 1000)\n",
    "\n",
    "X_train_rtmr_rtmr = cv.fit_transform(processed_rtmr_train).toarray()[args]\n",
    "X_test_rtmr_rtmr = cv.transform(processed_rtmr_test).toarray()\n",
    "X_test_rtmr_s140 = cv.transform(processed_s140_test).toarray()\n",
    "\n",
    "y_train_rtmr = map_array(labels_rtmr_train[args])\n",
    "y_test_rtmr  = map_array(labels_rtmr_test)\n",
    "\n"
   ],
   "outputs": [],
   "metadata": {}
  },
  {
   "cell_type": "code",
   "execution_count": 143,
   "source": [
    "from sklearn.model_selection import train_test_split\n",
    "from sklearn.feature_extraction.text import TfidfVectorizer\n",
    "from sklearn.naive_bayes import MultinomialNB\n",
    "from sklearn.pipeline import make_pipeline\n",
    "from sklearn.metrics import confusion_matrix, accuracy_score, f1_score,precision_score,recall_score, classification_report\n",
    "import seaborn as sns\n",
    "import matplotlib.pyplot as plt\n",
    "\n",
    "\n",
    "def convert_prob_to_class(probs, threshold_1, threshold_2):\n",
    "\n",
    "    def convert_single_probability(prob, threshold_1=threshold_1, threshold_2=threshold_2):\n",
    "        if prob < threshold_1:\n",
    "            return 0\n",
    "        if prob >= threshold_2:\n",
    "            return 2\n",
    "        else:\n",
    "            return 1\n",
    "    return np.array([convert_single_probability(item) for item in probs[:, 1]])\n",
    "\n",
    "def naive_bayes(processed_train, processed_test, labels_train, labels_test, create_new_class, threshold_1=0.33, threshold_2=0.66):\n",
    "      samples_train = processed_train \n",
    "      samples_test = processed_test\n",
    "      labels_train = labels_train\n",
    "      labels_test = labels_test\n",
    "\n",
    "      no_of_training_samples = len(samples_train)\n",
    "      no_of_test_samples = len(samples_test)\n",
    "      total_samples = no_of_training_samples+no_of_test_samples\n",
    "      print(\"Total samples:\\t\\t%4d\" % total_samples)\n",
    "      print(\"Training samples:\\t%4d (%2.2f%s)\" %(no_of_training_samples,(no_of_training_samples/total_samples)*100,\"%\"))\n",
    "      print(\"Test samples:\\t\\t%d4d (%2.2f%s)\" %\n",
    "            (no_of_test_samples,(no_of_test_samples/total_samples)*100,\"%\"))\n",
    "            \n",
    "      model = make_pipeline(MultinomialNB())\n",
    "      model.fit(samples_train, labels_train) # Train the model on the training data\n",
    "      if create_new_class:\n",
    "          probabilities = model.predict_proba(samples_test) \n",
    "          predicted_categories = convert_prob_to_class(probabilities, threshold_1=threshold_1, threshold_2=threshold_2)\n",
    "      else:\n",
    "          predicted_categories = model.predict(samples_test)\n",
    "\n",
    "      sns.set()\n",
    "      mat = confusion_matrix(labels_test, predicted_categories)\n",
    "      sns.heatmap(mat.T, square = True, annot=True, fmt = \"d\")\n",
    "      plt.xlabel(\"True label\")\n",
    "      plt.ylabel(\"Predicted label\")\n",
    "      plt.show()\n",
    "      print(\"Accuracy:\\t%f\" % accuracy_score(labels_test, predicted_categories))\n",
    "      print(\"F1-score:\\t%f\" % f1_score(labels_test, predicted_categories, average='macro'))\n",
    "      print(\"Precision:\\t%f\" % precision_score(labels_test, predicted_categories, average='macro'))\n",
    "      print(\"Recall:\\t\\t%f\" % recall_score(labels_test, predicted_categories, average='macro'))\n",
    "\n",
    "      print(\"\\nClassification performance:\\n%s\" % classification_report(labels_test, predicted_categories))\n",
    "\n"
   ],
   "outputs": [],
   "metadata": {}
  },
  {
   "cell_type": "code",
   "execution_count": 144,
   "source": [
    "print(\"train RTMR, test RTMR\")\n",
    "probabilities = naive_bayes(processed_train=X_train_rtmr_rtmr, \n",
    "                                processed_test=X_test_rtmr_rtmr, \n",
    "                                labels_train=y_train_rtmr, \n",
    "                                labels_test = y_test_rtmr, create_new_class=False)\n",
    "#  This votes too heavy for number 1\n",
    "\n",
    "## word frequencies hide information - not bad!! -> means good, but word frequencies will see the word 'bad'. \n",
    "\n",
    "print(\"Train rtmr, test s140\")\n",
    "probabilities = naive_bayes(processed_train=X_train_rtmr_rtmr, \n",
    "                                processed_test=X_test_rtmr_s140, \n",
    "                                labels_train=y_train_rtmr, \n",
    "                                labels_test = y_test_s140, create_new_class=False)\n",
    "# This performs well also, this is because yjr rtmr dataset supports the output classes seen on the test s140 dataset\n",
    "\n",
    "print(\"Train s140, test s140\")\n",
    "probabilities = naive_bayes(processed_train=X_train_s140_s140, \n",
    "                                processed_test=X_test_s140_s140, \n",
    "                                labels_train=y_train_s140, \n",
    "                                labels_test = y_test_s140, create_new_class=True)\n",
    "\n",
    "print(\"Train s140, test rtmr\")\n",
    "probabilities = naive_bayes(processed_train=X_train_s140_s140, \n",
    "                                processed_test=X_test_s140_rtmr, \n",
    "                                labels_train=y_train_s140, \n",
    "                                labels_test = y_test_rtmr, create_new_class=True, threshold_1=0.45, threshold_2=0.55)"
   ],
   "outputs": [
    {
     "output_type": "stream",
     "name": "stdout",
     "text": [
      "train RTMR, test RTMR\n",
      "Total samples:\t\t11409\n",
      "Training samples:\t4445 (38.96%)\n",
      "Test samples:\t\t69644d (61.04%)\n"
     ]
    },
    {
     "output_type": "display_data",
     "data": {
      "image/png": "[encoded data removed]",
      "text/plain": [
       "<Figure size 432x288 with 2 Axes>"
      ]
     },
     "metadata": {}
    },
    {
     "output_type": "stream",
     "name": "stdout",
     "text": [
      "Accuracy:\t0.549971\n",
      "F1-score:\t0.483702\n",
      "Precision:\t0.532818\n",
      "Recall:\t\t0.477850\n",
      "\n",
      "Classification performance:\n",
      "              precision    recall  f1-score   support\n",
      "\n",
      "           0       0.49      0.25      0.33      1620\n",
      "           1       0.56      0.77      0.65      3402\n",
      "           2       0.55      0.41      0.47      1942\n",
      "\n",
      "    accuracy                           0.55      6964\n",
      "   macro avg       0.53      0.48      0.48      6964\n",
      "weighted avg       0.54      0.55      0.53      6964\n",
      "\n",
      "Train rtmr, test s140\n",
      "Total samples:\t\t4942\n",
      "Training samples:\t4445 (89.94%)\n",
      "Test samples:\t\t4974d (10.06%)\n"
     ]
    },
    {
     "output_type": "display_data",
     "data": {
      "image/png": "[encoded data removed]",
      "text/plain": [
       "<Figure size 432x288 with 2 Axes>"
      ]
     },
     "metadata": {}
    },
    {
     "output_type": "stream",
     "name": "stdout",
     "text": [
      "Accuracy:\t0.410463\n",
      "F1-score:\t0.381504\n",
      "Precision:\t0.500540\n",
      "Recall:\t\t0.444271\n",
      "\n",
      "Classification performance:\n",
      "              precision    recall  f1-score   support\n",
      "\n",
      "           0       0.55      0.17      0.26       177\n",
      "           1       0.34      0.87      0.49       139\n",
      "           2       0.62      0.29      0.40       181\n",
      "\n",
      "    accuracy                           0.41       497\n",
      "   macro avg       0.50      0.44      0.38       497\n",
      "weighted avg       0.51      0.41      0.37       497\n",
      "\n",
      "Train s140, test s140\n",
      "Total samples:\t\t8482\n",
      "Training samples:\t7985 (94.14%)\n",
      "Test samples:\t\t4974d (5.86%)\n"
     ]
    },
    {
     "output_type": "display_data",
     "data": {
      "image/png": "[encoded data removed]",
      "text/plain": [
       "<Figure size 432x288 with 2 Axes>"
      ]
     },
     "metadata": {}
    },
    {
     "output_type": "stream",
     "name": "stdout",
     "text": [
      "Accuracy:\t0.583501\n",
      "F1-score:\t0.582530\n",
      "Precision:\t0.601732\n",
      "Recall:\t\t0.582026\n",
      "\n",
      "Classification performance:\n",
      "              precision    recall  f1-score   support\n",
      "\n",
      "           0       0.77      0.54      0.64       177\n",
      "           1       0.44      0.57      0.50       139\n",
      "           2       0.60      0.64      0.61       181\n",
      "\n",
      "    accuracy                           0.58       497\n",
      "   macro avg       0.60      0.58      0.58       497\n",
      "weighted avg       0.61      0.58      0.59       497\n",
      "\n",
      "Train s140, test rtmr\n",
      "Total samples:\t\t14949\n",
      "Training samples:\t7985 (53.41%)\n",
      "Test samples:\t\t69644d (46.59%)\n"
     ]
    },
    {
     "output_type": "display_data",
     "data": {
      "image/png": "[encoded data removed]",
      "text/plain": [
       "<Figure size 432x288 with 2 Axes>"
      ]
     },
     "metadata": {}
    },
    {
     "output_type": "stream",
     "name": "stdout",
     "text": [
      "Accuracy:\t0.469989\n",
      "F1-score:\t0.431437\n",
      "Precision:\t0.434678\n",
      "Recall:\t\t0.429872\n",
      "\n",
      "Classification performance:\n",
      "              precision    recall  f1-score   support\n",
      "\n",
      "           0       0.37      0.32      0.34      1620\n",
      "           1       0.56      0.60      0.58      3402\n",
      "           2       0.38      0.38      0.38      1942\n",
      "\n",
      "    accuracy                           0.47      6964\n",
      "   macro avg       0.43      0.43      0.43      6964\n",
      "weighted avg       0.46      0.47      0.47      6964\n",
      "\n"
     ]
    }
   ],
   "metadata": {}
  },
  {
   "cell_type": "code",
   "execution_count": 145,
   "source": [
    "X_train_s140_s140.shape"
   ],
   "outputs": [
    {
     "output_type": "execute_result",
     "data": {
      "text/plain": [
       "(7985, 1000)"
      ]
     },
     "metadata": {},
     "execution_count": 145
    }
   ],
   "metadata": {}
  },
  {
   "cell_type": "code",
   "execution_count": 146,
   "source": [
    "y_train_rtmr.shape"
   ],
   "outputs": [
    {
     "output_type": "execute_result",
     "data": {
      "text/plain": [
       "(4445,)"
      ]
     },
     "metadata": {},
     "execution_count": 146
    }
   ],
   "metadata": {}
  },
  {
   "cell_type": "code",
   "execution_count": 147,
   "source": [
    "y_train_s140.shape"
   ],
   "outputs": [
    {
     "output_type": "execute_result",
     "data": {
      "text/plain": [
       "(7985,)"
      ]
     },
     "metadata": {},
     "execution_count": 147
    }
   ],
   "metadata": {}
  },
  {
   "cell_type": "code",
   "execution_count": 148,
   "source": [
    "print(X_test_s140_s140.shape)"
   ],
   "outputs": [
    {
     "output_type": "stream",
     "name": "stdout",
     "text": [
      "(497, 1000)\n"
     ]
    }
   ],
   "metadata": {}
  },
  {
   "cell_type": "code",
   "execution_count": 149,
   "source": [
    "def naive_bayes(processed_train, processed_test, labels_train, labels_test, create_new_class, threshold_1=0.33, threshold_2=0.66):\n",
    "      samples_train = processed_train \n",
    "      samples_test = processed_test\n",
    "      labels_train = labels_train\n",
    "      labels_test = labels_test\n",
    "\n",
    "      no_of_training_samples = len(samples_train)\n",
    "      no_of_test_samples = len(samples_test)\n",
    "      total_samples = no_of_training_samples+no_of_test_samples\n",
    "      print(\"Total samples:\\t\\t%4d\" % total_samples)\n",
    "      print(\"Training samples:\\t%4d (%2.2f%s)\" %(no_of_training_samples,(no_of_training_samples/total_samples)*100,\"%\"))\n",
    "      print(\"Test samples:\\t\\t%d4d (%2.2f%s)\" %\n",
    "            (no_of_test_samples,(no_of_test_samples/total_samples)*100,\"%\"))\n",
    "            \n",
    "      model = make_pipeline(MultinomialNB())\n",
    "      model.fit(samples_train, labels_train) # Train the model on the training data\n",
    "      if create_new_class:\n",
    "          probabilities = model.predict_proba(samples_test)\n",
    "          return model\n",
    "print(X_train_s140_s140.shape)\n",
    "\n",
    "model = naive_bayes(processed_train=X_train_s140_s140, \n",
    "                                processed_test=X_test_s140_s140, \n",
    "                                labels_train=y_train_s140, \n",
    "                                labels_test = y_test_s140, create_new_class=True)"
   ],
   "outputs": [
    {
     "output_type": "stream",
     "name": "stdout",
     "text": [
      "(7985, 1000)\n",
      "Total samples:\t\t8482\n",
      "Training samples:\t7985 (94.14%)\n",
      "Test samples:\t\t4974d (5.86%)\n"
     ]
    }
   ],
   "metadata": {}
  },
  {
   "cell_type": "code",
   "execution_count": 185,
   "source": [
    "import numpy as np\n",
    "## train on both s140 (doesn't have neutral class) and rtmr (does have neutral class)\n",
    "processed_s140_train = np.array(processed_s140_train)\n",
    "labels_s140_train = np.array(labels_s140_train)\n",
    "\n",
    "combined_train = np.concatenate((processed_s140_train, processed_s140_test))\n",
    "combined_test  = np.concatenate((processed_s140_test, processed_rtmr_test))\n",
    "\n",
    "args = np.random.permutation(len(combined_train))\n",
    "\n",
    "cv = CountVectorizer(max_features = 1000)\n",
    "\n",
    "X_train_combined = cv.fit_transform(combined_train[args][:5000]).toarray()\n",
    "X_test_combined = cv.transform(combined_test).toarray()\n",
    "\n",
    "y_train_combined = map_array(np.concatenate((labels_rtmr_train, labels_s140_train)))[args][:5000]\n",
    "y_test_combined = map_array(np.concatenate((labels_rtmr_test, labels_s140_test)))\n",
    "\n"
   ],
   "outputs": [],
   "metadata": {}
  },
  {
   "cell_type": "code",
   "execution_count": 186,
   "source": [
    "print(\"Train combined, test combined\")\n",
    "probabilities = naive_bayes(X_train_combined, \n",
    "                            X_test_combined, \n",
    "                            y_train_combined, \n",
    "                            y_test_combined, create_new_class=False)"
   ],
   "outputs": [
    {
     "output_type": "stream",
     "name": "stdout",
     "text": [
      "Train combined, test combined\n",
      "Total samples:\t\t12461\n",
      "Training samples:\t5000 (40.13%)\n",
      "Test samples:\t\t74614d (59.87%)\n"
     ]
    }
   ],
   "metadata": {}
  },
  {
   "cell_type": "code",
   "execution_count": null,
   "source": [
    "import tensorflow as tf\n",
    "from tensorflow.keras.preprocessing.text import Tokenizer\n",
    "from tensorflow.keras.preprocessing.sequence import pad_sequences"
   ],
   "outputs": [],
   "metadata": {}
  },
  {
   "cell_type": "markdown",
   "source": [
    "## RTMR data"
   ],
   "metadata": {}
  },
  {
   "cell_type": "code",
   "execution_count": null,
   "source": [
    "rtmr_train\n",
    "rtmr_x_train = rtmr_train['Phrase']\n",
    "rtmr_x_test = rtmr_test['Phrase']\n",
    "\n",
    "\n",
    "rtmr_y_train = rtmr_train['Sentiment'].values\n",
    "rtmr_y_test = rtmr_test['Sentiment'].values\n"
   ],
   "outputs": [],
   "metadata": {}
  },
  {
   "cell_type": "markdown",
   "source": [
    "## s140_neural_network"
   ],
   "metadata": {}
  },
  {
   "cell_type": "code",
   "execution_count": null,
   "source": [
    "s140_x_train = s140_train['Phrase']\n",
    "\n",
    "s140_train_filtered_mapping = {0:0, 4:1}\n",
    "s140_train_mapping = {0:0, 2:1, 4:2}\n",
    "\n",
    "s140_y_filtered_train = np.array([s140_train_filtered_mapping[item] for item in s140_train[\"Sentiment\"].values])\n",
    "\n",
    "sentiment_doesnt_equal_two = s140_test['Sentiment']!=2\n",
    "s140_x_test_filtered = s140_test['Phrase'].loc[sentiment_doesnt_equal_two]\n",
    "\n",
    "s140_y_test_filtered = np.array([s140_train_filtered_mapping[item] for item in s140_test[\"Sentiment\"].loc[sentiment_doesnt_equal_two].values])\n",
    "\n",
    "s140_x_test = s140_test['Phrase']\n",
    "\n",
    "s140_y_test = np.array([s140_train_mapping[item] for item in s140_test[\"Sentiment\"].values])\n",
    "\n"
   ],
   "outputs": [],
   "metadata": {}
  },
  {
   "cell_type": "code",
   "execution_count": null,
   "source": [
    "\n",
    "\n",
    "num_words = 3000\n",
    "dim_embedding = 16\n",
    "max_length = 120\n",
    "trunc_type=\"post\"\n",
    "padding_type = \"post\"\n",
    "\n",
    "token_model = Tokenizer(num_words = num_words)\n",
    "token_model.fit_on_texts(s140_x_train)\n",
    "token_model"
   ],
   "outputs": [
    {
     "output_type": "execute_result",
     "data": {
      "text/plain": [
       "<keras_preprocessing.text.Tokenizer at 0x7fede5e099d0>"
      ]
     },
     "metadata": {},
     "execution_count": 44
    }
   ],
   "metadata": {}
  },
  {
   "cell_type": "code",
   "execution_count": null,
   "source": [
    "X_train_sequences = token_model.texts_to_sequences(s140_x_train)\n",
    "X_test_sequences  = token_model.texts_to_sequences(s140_x_test)\n",
    "X_test_sequences_filtered  = token_model.texts_to_sequences(s140_x_test_filtered)\n",
    "length = np.max([len(item) for item in X_train_sequences])\n",
    "\n",
    "X_train_ready = tf.keras.preprocessing.sequence.pad_sequences(X_train_sequences, maxlen=length, padding=\"post\")\n",
    "X_test_ready  = tf.keras.preprocessing.sequence.pad_sequences(X_test_sequences, maxlen=length, padding=\"post\")\n",
    "X_test_ready_filtered  = tf.keras.preprocessing.sequence.pad_sequences(X_test_sequences_filtered, maxlen=length, padding=\"post\")\n",
    "\n",
    "\n",
    "token_model = Tokenizer(num_words = num_words)\n",
    "token_model.fit_on_texts(rtmr_x_train)\n",
    "token_model\n",
    "\n",
    "rtmr_x_train_sequences = token_model.texts_to_sequences(rtmr_x_train)\n",
    "rtmr_x_test_sequences  = token_model.texts_to_sequences(rtmr_x_test)\n",
    "\n",
    "rtmr_x_train_ready = tf.keras.preprocessing.sequence.pad_sequences(rtmr_x_train_sequences, maxlen=length, padding=\"post\")\n",
    "rtmr_x_test_ready  = tf.keras.preprocessing.sequence.pad_sequences(rtmr_x_test_sequences, maxlen=length, padding=\"post\")\n",
    "\n",
    "size = len(token_model.word_index)+1"
   ],
   "outputs": [],
   "metadata": {}
  },
  {
   "cell_type": "code",
   "execution_count": null,
   "source": [
    "from tensorflow import keras\n",
    "## this uses a GRU - gated recurrecnt unit, which makes the model a RNN\n",
    "N = 100\n",
    "rtmr_rnn = keras.models.Sequential([keras.layers.Embedding(size, N, input_length=length),\n",
    "                      keras.layers.GRU(units=64, dropout=0.3),\n",
    "                      keras.layers.Dense(5, activation=\"softmax\"), \n",
    "                        ])\n",
    "\n",
    "rtmr_rnn.compile(loss=\"sparse_categorical_crossentropy\", optimizer=\"adam\", metrics=['accuracy',])\n",
    "\n",
    "rnn = keras.models.Sequential([keras.layers.Embedding(size, N, input_length=length),\n",
    "                      keras.layers.GRU(units=64, dropout=0.3),\n",
    "                      keras.layers.Dense(1, activation=\"sigmoid\"), \n",
    "                        ])\n",
    "\n",
    "rnn.compile(loss=\"binary_crossentropy\", optimizer=\"adam\", metrics=['accuracy',])\n",
    "\n",
    "\n",
    "rtmr_cnn = keras.models.Sequential([keras.layers.Embedding(size, N, input_length=length),\n",
    "                      keras.layers.Conv1D(filters=64, kernel_size = 3,),\n",
    "                      keras.layers.Flatten(), \n",
    "                      keras.layers.Dense(5, activation=\"sigmoid\"), \n",
    "                        ])\n",
    "\n",
    "rtmr_cnn.compile(loss=\"sparse_categorical_crossentropy\", optimizer=\"adam\", metrics=['accuracy',])\n",
    "\n",
    "cnn = keras.models.Sequential([keras.layers.Embedding(size, N, input_length=length),\n",
    "                      keras.layers.Conv1D(filters=64, kernel_size = 3,),\n",
    "                      keras.layers.Flatten(), \n",
    "                      keras.layers.Dense(1, activation=\"sigmoid\"), \n",
    "                        ])\n",
    "\n",
    "cnn.compile(loss=\"binary_crossentropy\", optimizer=\"adam\", metrics=['accuracy',])"
   ],
   "outputs": [],
   "metadata": {}
  },
  {
   "cell_type": "code",
   "execution_count": null,
   "source": [
    "rnn.fit(X_train_ready, s140_y_filtered_train, batch_size=16, epochs=5, validation_data=(X_test_ready_filtered, s140_y_test_filtered))"
   ],
   "outputs": [
    {
     "output_type": "stream",
     "name": "stdout",
     "text": [
      "Epoch 1/5\n",
      "500/500 [==============================] - 22s 35ms/step - loss: 0.6938 - accuracy: 0.5015 - val_loss: 0.6932 - val_accuracy: 0.5056\n",
      "Epoch 2/5\n",
      "500/500 [==============================] - 17s 34ms/step - loss: 0.6669 - accuracy: 0.5611 - val_loss: 0.5960 - val_accuracy: 0.6927\n",
      "Epoch 3/5\n",
      "500/500 [==============================] - 17s 34ms/step - loss: 0.5661 - accuracy: 0.7266 - val_loss: 0.5673 - val_accuracy: 0.7095\n",
      "Epoch 4/5\n",
      "500/500 [==============================] - 17s 34ms/step - loss: 0.4817 - accuracy: 0.7805 - val_loss: 0.5089 - val_accuracy: 0.7626\n",
      "Epoch 5/5\n",
      "500/500 [==============================] - 18s 36ms/step - loss: 0.4051 - accuracy: 0.8250 - val_loss: 0.4959 - val_accuracy: 0.7737\n"
     ]
    },
    {
     "output_type": "execute_result",
     "data": {
      "text/plain": [
       "<keras.callbacks.History at 0x7fedb9a92970>"
      ]
     },
     "metadata": {},
     "execution_count": 132
    }
   ],
   "metadata": {}
  },
  {
   "cell_type": "code",
   "execution_count": null,
   "source": [
    "cnn.fit(X_train_ready, s140_y_filtered_train, batch_size=16, epochs=5, validation_data=(X_test_ready_filtered, s140_y_test_filtered))"
   ],
   "outputs": [
    {
     "output_type": "stream",
     "name": "stdout",
     "text": [
      "Epoch 1/5\n",
      "500/500 [==============================] - 10s 17ms/step - loss: 0.6076 - accuracy: 0.6689 - val_loss: 0.5466 - val_accuracy: 0.7095\n",
      "Epoch 2/5\n",
      "500/500 [==============================] - 8s 16ms/step - loss: 0.4157 - accuracy: 0.8131 - val_loss: 0.5255 - val_accuracy: 0.7542\n",
      "Epoch 3/5\n",
      "500/500 [==============================] - 8s 16ms/step - loss: 0.2165 - accuracy: 0.9161 - val_loss: 0.6397 - val_accuracy: 0.7207\n",
      "Epoch 4/5\n",
      "500/500 [==============================] - 8s 16ms/step - loss: 0.0906 - accuracy: 0.9711 - val_loss: 0.8717 - val_accuracy: 0.7095\n",
      "Epoch 5/5\n",
      "500/500 [==============================] - 8s 16ms/step - loss: 0.0462 - accuracy: 0.9849 - val_loss: 1.0844 - val_accuracy: 0.7095\n"
     ]
    },
    {
     "output_type": "execute_result",
     "data": {
      "text/plain": [
       "<keras.callbacks.History at 0x7fed9df87d60>"
      ]
     },
     "metadata": {},
     "execution_count": 133
    }
   ],
   "metadata": {}
  },
  {
   "cell_type": "code",
   "execution_count": 134,
   "source": [
    "rtmr_rnn.fit(rtmr_x_train_ready, rtmr_y_train, batch_size=16, epochs=5, validation_data=(rtmr_x_test_ready, rtmr_y_test))"
   ],
   "outputs": [
    {
     "output_type": "stream",
     "name": "stdout",
     "text": [
      "Epoch 1/5\n",
      "309/309 [==============================] - 15s 47ms/step - loss: 0.7657 - accuracy: 0.7149 - val_loss: 1.3727 - val_accuracy: 0.5169\n",
      "Epoch 2/5\n",
      "309/309 [==============================] - 13s 43ms/step - loss: 0.6333 - accuracy: 0.7726 - val_loss: 1.4948 - val_accuracy: 0.5015\n",
      "Epoch 3/5\n",
      "309/309 [==============================] - 15s 49ms/step - loss: 0.5453 - accuracy: 0.8092 - val_loss: 1.5780 - val_accuracy: 0.5061\n",
      "Epoch 4/5\n",
      "309/309 [==============================] - 17s 55ms/step - loss: 0.4891 - accuracy: 0.8246 - val_loss: 1.6553 - val_accuracy: 0.5070\n",
      "Epoch 5/5\n",
      "309/309 [==============================] - 17s 55ms/step - loss: 0.4358 - accuracy: 0.8460 - val_loss: 1.8348 - val_accuracy: 0.5083\n"
     ]
    },
    {
     "output_type": "execute_result",
     "data": {
      "text/plain": [
       "<keras.callbacks.History at 0x7fed9df46970>"
      ]
     },
     "metadata": {},
     "execution_count": 134
    }
   ],
   "metadata": {}
  },
  {
   "cell_type": "code",
   "execution_count": null,
   "source": [
    "rtmr_cnn.fit(rtmr_x_train_ready, rtmr_y_train, batch_size=16, epochs=5, validation_data=(rtmr_x_test_ready, rtmr_y_test))"
   ],
   "outputs": [
    {
     "output_type": "stream",
     "name": "stdout",
     "text": [
      "Epoch 1/5\n",
      "309/309 [==============================] - 8s 22ms/step - loss: 1.2450 - accuracy: 0.5123 - val_loss: 1.1869 - val_accuracy: 0.5293\n",
      "Epoch 2/5\n",
      "309/309 [==============================] - 6s 20ms/step - loss: 1.0060 - accuracy: 0.6261 - val_loss: 1.1902 - val_accuracy: 0.5390\n",
      "Epoch 3/5\n",
      "309/309 [==============================] - 6s 20ms/step - loss: 0.5768 - accuracy: 0.8094 - val_loss: 1.4335 - val_accuracy: 0.5197\n",
      "Epoch 4/5\n",
      "309/309 [==============================] - 6s 21ms/step - loss: 0.3138 - accuracy: 0.9008 - val_loss: 1.7224 - val_accuracy: 0.4870\n",
      "Epoch 5/5\n",
      "309/309 [==============================] - 7s 21ms/step - loss: 0.2131 - accuracy: 0.9312 - val_loss: 1.9387 - val_accuracy: 0.5052\n"
     ]
    },
    {
     "output_type": "execute_result",
     "data": {
      "text/plain": [
       "<keras.callbacks.History at 0x7fedadbcf190>"
      ]
     },
     "metadata": {},
     "execution_count": 103
    }
   ],
   "metadata": {}
  },
  {
   "cell_type": "markdown",
   "source": [
    "That model only predicts 0, 1 which correspond to 0 and 4 on the sentiment data. We can make the model predict 2 the same way as we did before, which is by looking at the confidence the model outputs, in other words if the model predicts between 0.2 and 0.8, the model is less sure than if it predicts < 0.2 or > 0.8. This means we can use this to predict a nuetral sentiment. "
   ],
   "metadata": {}
  },
  {
   "cell_type": "code",
   "execution_count": null,
   "source": [
    "def make_confusion(labels_test, predicted_categories):\n",
    "      import seaborn as sns\n",
    "      sns.set()\n",
    "      mat = confusion_matrix(labels_test, predicted_categories)\n",
    "      sns.heatmap(mat.T, square = True, annot=True, fmt = \"d\")\n",
    "      plt.xlabel(\"True label\")\n",
    "      plt.ylabel(\"Predicted label\")\n",
    "      plt.show()\n",
    "      print(\"Accuracy:\\t%f\" % accuracy_score(labels_test, predicted_categories))\n",
    "      print(\"F1-score:\\t%f\" % f1_score(labels_test, predicted_categories, average='macro'))\n",
    "      print(\"Precision:\\t%f\" % precision_score(labels_test, predicted_categories, average='macro'))\n",
    "      print(\"Recall:\\t\\t%f\" % recall_score(labels_test, predicted_categories, average='macro'))\n",
    "\n",
    "      print(\"\\nClassification performance:\\n%s\" % classification_report(labels_test, predicted_categories))"
   ],
   "outputs": [],
   "metadata": {}
  },
  {
   "cell_type": "code",
   "execution_count": 157,
   "source": [
    "def predict_sentiments(model, x, threshold_1=0.3, threshold_2=0.7):\n",
    "    predictions = model(x)\n",
    "\n",
    "    output = []\n",
    "    for prediction in predictions:\n",
    "        if prediction<threshold_1:\n",
    "            output.append(0)\n",
    "        elif prediction<threshold_2:\n",
    "            output.append(1)\n",
    "        else:\n",
    "            output.append(2)\n",
    "    return np.array(output)\n",
    "\n",
    "sentiment_predictions = predict_sentiments(rnn, X_test_ready, 0.4, 0.6)      \n",
    "print(\"s140 RNN confusion matrix\")  \n",
    "make_confusion(s140_y_test, sentiment_predictions)\n",
    "rnn.save(\"RNN_s140.pb\")\n",
    "\n",
    "sentiment_predictions = predict_sentiments(cnn, X_test_ready)      \n",
    "print(\"s140 CNN confusion matrix\")  \n",
    "make_confusion(s140_y_test, sentiment_predictions)\n",
    "cnn.save(\"CNN_s140.pb\")\n",
    "\n",
    "sentiment_predictions = np.argmax(rtmr_rnn.predict(rtmr_x_test_ready), axis=1)    \n",
    "print(\"rtmr RNN confusion matrix\")  \n",
    "make_confusion(rtmr_y_test, sentiment_predictions)\n",
    "rtmr_rnn.save(\"RNN_rtmr.pb\")\n",
    "\n",
    "sentiment_predictions = np.argmax(rtmr_cnn.predict(rtmr_x_test_ready), axis=1)    \n",
    "print(\"rtmr CNN confusion matrix\")  \n",
    "make_confusion(rtmr_y_test, sentiment_predictions)\n",
    "rtmr_cnn.save(\"CNN_rtmr.pb\")"
   ],
   "outputs": [
    {
     "output_type": "stream",
     "name": "stdout",
     "text": [
      "s140 RNN confusion matrix\n"
     ]
    },
    {
     "output_type": "display_data",
     "data": {
      "image/png": "[encoded data removed]",
      "text/plain": [
       "<Figure size 432x288 with 2 Axes>"
      ]
     },
     "metadata": {}
    },
    {
     "output_type": "stream",
     "name": "stdout",
     "text": [
      "Accuracy:\t0.559356\n",
      "F1-score:\t0.497392\n",
      "Precision:\t0.524751\n",
      "Recall:\t\t0.527329\n",
      "\n",
      "Classification performance:\n",
      "              precision    recall  f1-score   support\n",
      "\n",
      "           0       0.67      0.65      0.66       177\n",
      "           1       0.38      0.14      0.20       139\n",
      "           2       0.52      0.80      0.63       181\n",
      "\n",
      "    accuracy                           0.56       497\n",
      "   macro avg       0.52      0.53      0.50       497\n",
      "weighted avg       0.54      0.56      0.52       497\n",
      "\n"
     ]
    },
    {
     "output_type": "stream",
     "name": "stderr",
     "text": [
      "2022-03-24 17:20:43.269911: W tensorflow/python/util/util.cc:368] Sets are not currently considered sequences, but this may change in the future, so consider avoiding using them.\n",
      "WARNING:absl:Found untraced functions such as gru_cell_19_layer_call_fn, gru_cell_19_layer_call_and_return_conditional_losses while saving (showing 2 of 2). These functions will not be directly callable after loading.\n"
     ]
    },
    {
     "output_type": "stream",
     "name": "stdout",
     "text": [
      "INFO:tensorflow:Assets written to: RNN_s140.pb/assets\n"
     ]
    },
    {
     "output_type": "stream",
     "name": "stderr",
     "text": [
      "INFO:tensorflow:Assets written to: RNN_s140.pb/assets\n",
      "WARNING:absl:<keras.layers.recurrent.GRUCell object at 0x7fed98224790> has the same name 'GRUCell' as a built-in Keras object. Consider renaming <class 'keras.layers.recurrent.GRUCell'> to avoid naming conflicts when loading with `tf.keras.models.load_model`. If renaming is not possible, pass the object in the `custom_objects` parameter of the load function.\n"
     ]
    },
    {
     "output_type": "stream",
     "name": "stdout",
     "text": [
      "s140 CNN confusion matrix\n"
     ]
    },
    {
     "output_type": "display_data",
     "data": {
      "image/png": "[encoded data removed]",
      "text/plain": [
       "<Figure size 432x288 with 2 Axes>"
      ]
     },
     "metadata": {}
    },
    {
     "output_type": "stream",
     "name": "stdout",
     "text": [
      "Accuracy:\t0.507042\n",
      "F1-score:\t0.451679\n",
      "Precision:\t0.470847\n",
      "Recall:\t\t0.477918\n",
      "\n",
      "Classification performance:\n",
      "              precision    recall  f1-score   support\n",
      "\n",
      "           0       0.62      0.59      0.61       177\n",
      "           1       0.31      0.12      0.18       139\n",
      "           2       0.47      0.72      0.57       181\n",
      "\n",
      "    accuracy                           0.51       497\n",
      "   macro avg       0.47      0.48      0.45       497\n",
      "weighted avg       0.48      0.51      0.47       497\n",
      "\n",
      "INFO:tensorflow:Assets written to: CNN_s140.pb/assets\n"
     ]
    },
    {
     "output_type": "stream",
     "name": "stderr",
     "text": [
      "INFO:tensorflow:Assets written to: CNN_s140.pb/assets\n"
     ]
    },
    {
     "output_type": "stream",
     "name": "stdout",
     "text": [
      "rtmr RNN confusion matrix\n"
     ]
    },
    {
     "output_type": "display_data",
     "data": {
      "image/png": "[encoded data removed]",
      "text/plain": [
       "<Figure size 432x288 with 2 Axes>"
      ]
     },
     "metadata": {}
    },
    {
     "output_type": "stream",
     "name": "stdout",
     "text": [
      "Accuracy:\t0.508266\n",
      "F1-score:\t0.334141\n",
      "Precision:\t0.353317\n",
      "Recall:\t\t0.325434\n",
      "\n",
      "Classification performance:\n",
      "              precision    recall  f1-score   support\n",
      "\n",
      "           0       0.19      0.12      0.14       306\n",
      "           1       0.34      0.33      0.33      1400\n",
      "           2       0.63      0.71      0.67      4027\n",
      "           3       0.38      0.35      0.36      1638\n",
      "           4       0.23      0.13      0.16       432\n",
      "\n",
      "    accuracy                           0.51      7803\n",
      "   macro avg       0.35      0.33      0.33      7803\n",
      "weighted avg       0.49      0.51      0.49      7803\n",
      "\n"
     ]
    },
    {
     "output_type": "stream",
     "name": "stderr",
     "text": [
      "WARNING:absl:Found untraced functions such as gru_cell_18_layer_call_fn, gru_cell_18_layer_call_and_return_conditional_losses while saving (showing 2 of 2). These functions will not be directly callable after loading.\n"
     ]
    },
    {
     "output_type": "stream",
     "name": "stdout",
     "text": [
      "INFO:tensorflow:Assets written to: RNN_rtmr.pb/assets\n"
     ]
    },
    {
     "output_type": "stream",
     "name": "stderr",
     "text": [
      "INFO:tensorflow:Assets written to: RNN_rtmr.pb/assets\n",
      "WARNING:absl:<keras.layers.recurrent.GRUCell object at 0x7feda18e04f0> has the same name 'GRUCell' as a built-in Keras object. Consider renaming <class 'keras.layers.recurrent.GRUCell'> to avoid naming conflicts when loading with `tf.keras.models.load_model`. If renaming is not possible, pass the object in the `custom_objects` parameter of the load function.\n"
     ]
    },
    {
     "output_type": "stream",
     "name": "stdout",
     "text": [
      "rtmr CNN confusion matrix\n"
     ]
    },
    {
     "output_type": "display_data",
     "data": {
      "image/png": "[encoded data removed]",
      "text/plain": [
       "<Figure size 432x288 with 2 Axes>"
      ]
     },
     "metadata": {}
    },
    {
     "output_type": "stream",
     "name": "stdout",
     "text": [
      "Accuracy:\t0.505190\n",
      "F1-score:\t0.325875\n",
      "Precision:\t0.350674\n",
      "Recall:\t\t0.315342\n",
      "\n",
      "Classification performance:\n",
      "              precision    recall  f1-score   support\n",
      "\n",
      "           0       0.17      0.09      0.12       306\n",
      "           1       0.33      0.25      0.29      1400\n",
      "           2       0.62      0.74      0.67      4027\n",
      "           3       0.34      0.31      0.32      1638\n",
      "           4       0.29      0.19      0.23       432\n",
      "\n",
      "    accuracy                           0.51      7803\n",
      "   macro avg       0.35      0.32      0.33      7803\n",
      "weighted avg       0.47      0.51      0.48      7803\n",
      "\n",
      "INFO:tensorflow:Assets written to: CNN_rtmr.pb/assets\n"
     ]
    },
    {
     "output_type": "stream",
     "name": "stderr",
     "text": [
      "INFO:tensorflow:Assets written to: CNN_rtmr.pb/assets\n"
     ]
    }
   ],
   "metadata": {}
  },
  {
   "cell_type": "code",
   "execution_count": 190,
   "source": [
    "def predict_post(text, model):\n",
    "    sequence = token_model.texts_to_sequences([text])\n",
    "    vector = tf.keras.preprocessing.sequence.pad_sequences(sequence, maxlen=length, padding=\"post\")\n",
    "    \n",
    "    model = tf.keras.models.load_model(model)\n",
    "\n",
    "    value = model.predict(vector)\n",
    "    return value\n",
    "\n",
    "predict_post(\"best\", \"RNN_rtmr.pb\")\n",
    "\n",
    "##"
   ],
   "outputs": [
    {
     "output_type": "execute_result",
     "data": {
      "text/plain": [
       "array([[0.00596238, 0.01783083, 0.0892764 , 0.8391911 , 0.04773924]],\n",
       "      dtype=float32)"
      ]
     },
     "metadata": {},
     "execution_count": 190
    }
   ],
   "metadata": {}
  },
  {
   "cell_type": "code",
   "execution_count": 179,
   "source": [
    "predict_post(\"I loved the movie I will tell all my friends to go watch it!! enjoyed great brilliant\", \"RNN_rtmr.pb\")"
   ],
   "outputs": [
    {
     "output_type": "stream",
     "name": "stdout",
     "text": [
      "WARNING:tensorflow:6 out of the last 2201 calls to <function Model.make_predict_function.<locals>.predict_function at 0x7fed38a134c0> triggered tf.function retracing. Tracing is expensive and the excessive number of tracings could be due to (1) creating @tf.function repeatedly in a loop, (2) passing tensors with different shapes, (3) passing Python objects instead of tensors. For (1), please define your @tf.function outside of the loop. For (2), @tf.function has experimental_relax_shapes=True option that relaxes argument shapes that can avoid unnecessary retracing. For (3), please refer to https://www.tensorflow.org/guide/function#controlling_retracing and https://www.tensorflow.org/api_docs/python/tf/function for  more details.\n"
     ]
    },
    {
     "output_type": "stream",
     "name": "stderr",
     "text": [
      "WARNING:tensorflow:6 out of the last 2201 calls to <function Model.make_predict_function.<locals>.predict_function at 0x7fed38a134c0> triggered tf.function retracing. Tracing is expensive and the excessive number of tracings could be due to (1) creating @tf.function repeatedly in a loop, (2) passing tensors with different shapes, (3) passing Python objects instead of tensors. For (1), please define your @tf.function outside of the loop. For (2), @tf.function has experimental_relax_shapes=True option that relaxes argument shapes that can avoid unnecessary retracing. For (3), please refer to https://www.tensorflow.org/guide/function#controlling_retracing and https://www.tensorflow.org/api_docs/python/tf/function for  more details.\n"
     ]
    },
    {
     "output_type": "execute_result",
     "data": {
      "text/plain": [
       "array([[8.0279654e-01, 1.8938547e-01, 3.2198089e-04, 1.5896758e-03,\n",
       "        5.9063281e-03]], dtype=float32)"
      ]
     },
     "metadata": {},
     "execution_count": 179
    }
   ],
   "metadata": {}
  }
 ],
 "metadata": {
  "interpreter": {
   "hash": "25e9b6a74657b6e591596d7f9b3db713deaf8a9a420ceced6091d7f339c40cc0"
  },
  "kernelspec": {
   "name": "python3",
   "display_name": "Python 3.9.7 64-bit (conda)"
  },
  "language_info": {
   "codemirror_mode": {
    "name": "ipython",
    "version": 3
   },
   "file_extension": ".py",
   "mimetype": "text/x-python",
   "name": "python",
   "nbconvert_exporter": "python",
   "pygments_lexer": "ipython3",
   "version": "3.9.7"
  },
  "toc": {
   "base_numbering": 1,
   "nav_menu": {},
   "number_sections": true,
   "sideBar": true,
   "skip_h1_title": false,
   "title_cell": "Table of Contents",
   "title_sidebar": "Contents",
   "toc_cell": false,
   "toc_position": {
    "height": "calc(100% - 180px)",
    "left": "10px",
    "top": "150px",
    "width": "165px"
   },
   "toc_section_display": true,
   "toc_window_display": true
  }
 },
 "nbformat": 4,
 "nbformat_minor": 5
}